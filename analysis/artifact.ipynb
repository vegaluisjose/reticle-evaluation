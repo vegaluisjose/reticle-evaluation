{
 "cells": [
  {
   "cell_type": "markdown",
   "id": "parliamentary-ready",
   "metadata": {},
   "source": [
    "## Figures"
   ]
  },
  {
   "cell_type": "code",
   "execution_count": 11,
   "id": "artificial-bulletin",
   "metadata": {},
   "outputs": [],
   "source": [
    "import matplotlib.pyplot as plt\n",
    "import seaborn as sns\n",
    "import pandas as pd\n",
    "import os"
   ]
  },
  {
   "cell_type": "markdown",
   "id": "comprehensive-hartford",
   "metadata": {},
   "source": [
    "### Helpers"
   ]
  },
  {
   "cell_type": "code",
   "execution_count": 17,
   "id": "excessive-punch",
   "metadata": {},
   "outputs": [],
   "source": [
    "def get_values(data, column, value):\n",
    "    indices = data[column] == value\n",
    "    return data[indices]\n",
    "\n",
    "\n",
    "def get_prim_values(data, backend, prim):\n",
    "    df = get_values(data, \"primitive\", prim)\n",
    "    df = get_values(df, \"backend\", backend)\n",
    "    return df[\"number\"].to_numpy()\n",
    "\n",
    "\n",
    "def get_time_values(data, backend):\n",
    "    df = get_values(data, \"backend\", backend)\n",
    "    return df[\"time\"].to_numpy()"
   ]
  },
  {
   "cell_type": "markdown",
   "id": "molecular-tunnel",
   "metadata": {},
   "source": [
    "### Calculate primitive utilization (LUT or DSP) for a given program"
   ]
  },
  {
   "cell_type": "code",
   "execution_count": 18,
   "id": "broadband-raising",
   "metadata": {},
   "outputs": [],
   "source": [
    "def calculate_util(prim, prog):\n",
    "    filename = \"{}.csv\".format(prog)\n",
    "    data = pd.read_csv(os.path.join(\"..\", \"data\", \"util\", filename))\n",
    "    data = data.sort_values(by=[\"length\"])\n",
    "    ret = get_values(data, \"backend\", \"reticle\")\n",
    "    ret = get_values(ret, \"primitive\", \"lut\")\n",
    "    length = []\n",
    "    backend = []\n",
    "    number = []\n",
    "    for b in [\"base\", \"hint\", \"reticle\"]:\n",
    "        for n in get_prim_values(data, b, prim):\n",
    "            backend.append(b)\n",
    "            number.append(n)\n",
    "        length += list(ret[\"length\"].to_numpy())\n",
    "    res = {}\n",
    "    res[\"backend\"] = backend\n",
    "    res[\"length\"] = length\n",
    "    res[\"number\"] = number\n",
    "    return pd.DataFrame.from_dict(res)"
   ]
  },
  {
   "cell_type": "markdown",
   "id": "acting-state",
   "metadata": {},
   "source": [
    "### Calculate compiler speedup for a given program"
   ]
  },
  {
   "cell_type": "code",
   "execution_count": 19,
   "id": "federal-foundation",
   "metadata": {},
   "outputs": [],
   "source": [
    "def compiler_speedup(prog):\n",
    "    filename = \"{}.csv\".format(prog)\n",
    "    data = pd.read_csv(os.path.join(\"..\", \"data\", \"compiler\", filename))\n",
    "    data = data.sort_values(by=[\"length\"])\n",
    "    ret = get_values(data, \"backend\", \"reticle\")\n",
    "    length = []\n",
    "    backend = []\n",
    "    speedup = []\n",
    "    for b in [\"base\", \"hint\", \"reticle\"]:\n",
    "        new = get_time_values(data, b)\n",
    "        base = get_time_values(data, \"base\")\n",
    "        for (n0, n1) in zip(new, base):\n",
    "            backend.append(b)\n",
    "            speedup.append(n1 / n0)\n",
    "        length += list(ret[\"length\"].to_numpy())\n",
    "    res = {}\n",
    "    res[\"backend\"] = backend\n",
    "    res[\"length\"] = length\n",
    "    res[\"speedup\"] = speedup\n",
    "    return pd.DataFrame.from_dict(res)"
   ]
  },
  {
   "cell_type": "markdown",
   "id": "incorporate-alberta",
   "metadata": {},
   "source": [
    "### Calculate runtime speedup for a given program"
   ]
  },
  {
   "cell_type": "code",
   "execution_count": 20,
   "id": "comic-encounter",
   "metadata": {},
   "outputs": [],
   "source": [
    "def runtime_speedup(prog):\n",
    "    file = \"{}.csv\".format(prog)\n",
    "    data = pd.read_csv(os.path.join(\"..\", \"data\", \"runtime\", file))\n",
    "    data = data.sort_values(by=[\"length\"])\n",
    "    ret = get_values(data, \"backend\", \"reticle\")\n",
    "    length = []\n",
    "    backend = []\n",
    "    speedup = []\n",
    "    for b in [\"base\", \"hint\", \"reticle\"]:\n",
    "        new = get_time_values(data, b)\n",
    "        base = get_time_values(data, \"base\")\n",
    "        for (n0, n1) in zip(new, base):\n",
    "            backend.append(b)\n",
    "            speedup.append(n1 / n0)\n",
    "        length += list(ret[\"length\"].to_numpy())\n",
    "    res = {}\n",
    "    res[\"backend\"] = backend\n",
    "    res[\"length\"] = length\n",
    "    res[\"speedup\"] = speedup\n",
    "    return pd.DataFrame.from_dict(res)"
   ]
  },
  {
   "cell_type": "markdown",
   "id": "correct-receipt",
   "metadata": {},
   "source": [
    "### Plot a given program"
   ]
  },
  {
   "cell_type": "code",
   "execution_count": 21,
   "id": "executive-little",
   "metadata": {},
   "outputs": [],
   "source": [
    "def plot_prog(prog):\n",
    "    sns.set_theme(style=\"whitegrid\")\n",
    "    compiler = compiler_speedup(prog)\n",
    "    runtime = runtime_speedup(prog)\n",
    "    lut = calculate_util(\"lut\", prog)\n",
    "    dsp = calculate_util(\"dsp\", prog)\n",
    "    fig, axes = plt.subplots(1, 4, figsize=(15, 3))\n",
    "    sns.set_palette(sns.color_palette(\"muted\"))\n",
    "    sns.barplot(\n",
    "        ax=axes[0], x=\"length\", y=\"speedup\", hue=\"backend\", data=compiler\n",
    "    )\n",
    "    sns.barplot(\n",
    "        ax=axes[1], x=\"length\", y=\"speedup\", hue=\"backend\", data=runtime\n",
    "    )\n",
    "    sns.barplot(ax=axes[2], x=\"length\", y=\"number\", hue=\"backend\", data=lut)\n",
    "    sns.barplot(ax=axes[3], x=\"length\", y=\"number\", hue=\"backend\", data=dsp)\n",
    "    axes[0].set_yscale(\"log\")\n",
    "    axes[0].set_xlabel(\"Size\")\n",
    "    axes[1].set_xlabel(\"Size\")\n",
    "    axes[2].set_xlabel(\"Size\")\n",
    "    axes[3].set_xlabel(\"Size\")\n",
    "    axes[0].set_ylabel(\"Compiler speedup (log)\")\n",
    "    axes[1].set_ylabel(\"Run-time speedup\")\n",
    "    axes[2].set_ylabel(\"LUTs used\")\n",
    "    axes[3].set_ylabel(\"DSPs used\")\n",
    "    axes[0].get_legend().remove()\n",
    "    axes[1].get_legend().remove()\n",
    "    axes[2].get_legend().remove()\n",
    "    if prog == \"tdot\":\n",
    "        for i in range(4):\n",
    "            axes[i].set_xticklabels([\"5x3\", \"5x9\", \"5x18\", \"5x36\"])\n",
    "    new_labels = [\"base\", \"hint\", \"reticle\"]\n",
    "    handles, _ = axes[3].get_legend_handles_labels()\n",
    "    axes[3].legend(\n",
    "        handles,\n",
    "        new_labels,\n",
    "        fontsize=\"10\",\n",
    "        loc=\"center left\",\n",
    "        bbox_to_anchor=(1, 0.5),\n",
    "        title=\"Lang\",\n",
    "    )\n",
    "    plt.tight_layout()\n",
    "    plt.savefig(\"{}.pdf\".format(prog))"
   ]
  },
  {
   "cell_type": "markdown",
   "id": "executed-petite",
   "metadata": {},
   "source": [
    "### Figure 14a (tensoradd)"
   ]
  },
  {
   "cell_type": "code",
   "execution_count": 22,
   "id": "czech-robin",
   "metadata": {},
   "outputs": [
    {
     "data": {
      "image/png": "[encoded data removed]",
      "text/plain": [
       "<Figure size 1080x216 with 4 Axes>"
      ]
     },
     "metadata": {},
     "output_type": "display_data"
    }
   ],
   "source": [
    "plot_prog(\"tadd\")"
   ]
  },
  {
   "cell_type": "markdown",
   "id": "chief-confusion",
   "metadata": {},
   "source": [
    "### Figure 14b (tensordot)"
   ]
  },
  {
   "cell_type": "code",
   "execution_count": 23,
   "id": "superb-thesis",
   "metadata": {},
   "outputs": [
    {
     "data": {
      "image/png": "[encoded data removed]",
      "text/plain": [
       "<Figure size 1080x216 with 4 Axes>"
      ]
     },
     "metadata": {},
     "output_type": "display_data"
    }
   ],
   "source": [
    "plot_prog(\"tdot\")"
   ]
  },
  {
   "cell_type": "markdown",
   "id": "native-bride",
   "metadata": {},
   "source": [
    "### Figure 14c (fsm)"
   ]
  },
  {
   "cell_type": "code",
   "execution_count": 24,
   "id": "facial-visitor",
   "metadata": {},
   "outputs": [
    {
     "data": {
      "image/png": "[encoded data removed]",
      "text/plain": [
       "<Figure size 1080x216 with 4 Axes>"
      ]
     },
     "metadata": {},
     "output_type": "display_data"
    }
   ],
   "source": [
    "plot_prog(\"fsm\")"
   ]
  }
 ],
 "metadata": {
  "kernelspec": {
   "display_name": "Python 3",
   "language": "python",
   "name": "python3"
  },
  "language_info": {
   "codemirror_mode": {
    "name": "ipython",
    "version": 3
   },
   "file_extension": ".py",
   "mimetype": "text/x-python",
   "name": "python",
   "nbconvert_exporter": "python",
   "pygments_lexer": "ipython3",
   "version": "3.9.2"
  }
 },
 "nbformat": 4,
 "nbformat_minor": 5
}
